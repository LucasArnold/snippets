{
 "cells": [
  {
   "cell_type": "markdown",
   "id": "pediatric-disney",
   "metadata": {},
   "source": [
    "### 1) Download dataset and create college database:"
   ]
  },
  {
   "cell_type": "code",
   "execution_count": null,
   "id": "played-applicant",
   "metadata": {},
   "outputs": [],
   "source": [
    "%env INSTANCE=my"
   ]
  },
  {
   "cell_type": "code",
   "execution_count": null,
   "id": "romantic-comment",
   "metadata": {},
   "outputs": [],
   "source": [
    "!gsutil cp gs://cs327e-open-access/mysql_college.zip ."
   ]
  },
  {
   "cell_type": "code",
   "execution_count": null,
   "id": "expensive-anderson",
   "metadata": {},
   "outputs": [],
   "source": [
    "!unzip mysql_college.zip"
   ]
  },
  {
   "cell_type": "code",
   "execution_count": null,
   "id": "authentic-frame",
   "metadata": {},
   "outputs": [],
   "source": [
    "!mysql < /home/jupyter/mysql_college/create_tables.sql"
   ]
  },
  {
   "cell_type": "code",
   "execution_count": null,
   "id": "technical-luther",
   "metadata": {},
   "outputs": [],
   "source": [
    "!mysql college -e \"show tables\""
   ]
  },
  {
   "cell_type": "markdown",
   "id": "important-portland",
   "metadata": {},
   "source": [
    "### 2) Describe each table:"
   ]
  },
  {
   "cell_type": "markdown",
   "id": "finnish-surgeon",
   "metadata": {},
   "source": [
    "### 3) Import tables (Class, Student, Instructor, Teaches):"
   ]
  },
  {
   "cell_type": "code",
   "execution_count": null,
   "id": "certain-reflection",
   "metadata": {},
   "outputs": [],
   "source": [
    "!gcloud sql import csv $INSTANCE gs://cs327e-open-access/mysql_college/class.csv --database=college --table=Class"
   ]
  },
  {
   "cell_type": "markdown",
   "id": "found-shooting",
   "metadata": {},
   "source": [
    "### 4) Check record count for each table:"
   ]
  },
  {
   "cell_type": "markdown",
   "id": "defined-cloud",
   "metadata": {},
   "source": [
    "### 5) Sample records from each table: "
   ]
  },
  {
   "cell_type": "markdown",
   "id": "twelve-slovakia",
   "metadata": {},
   "source": [
    "### 6) Add Primary Keys"
   ]
  },
  {
   "cell_type": "code",
   "execution_count": null,
   "id": "saved-funeral",
   "metadata": {},
   "outputs": [],
   "source": []
  }
 ],
 "metadata": {
  "environment": {
   "name": "common-cpu.mnightly-2021-01-20-debian-10-test",
   "type": "gcloud",
   "uri": "gcr.io/deeplearning-platform-release/base-cpu:mnightly-2021-01-20-debian-10-test"
  },
  "kernelspec": {
   "display_name": "Python 3",
   "language": "python",
   "name": "python3"
  },
  "language_info": {
   "codemirror_mode": {
    "name": "ipython",
    "version": 3
   },
   "file_extension": ".py",
   "mimetype": "text/x-python",
   "name": "python",
   "nbconvert_exporter": "python",
   "pygments_lexer": "ipython3",
   "version": "3.7.9"
  }
 },
 "nbformat": 4,
 "nbformat_minor": 5
}
