{
 "cells": [
  {
   "cell_type": "markdown",
   "id": "surprised-interference",
   "metadata": {},
   "source": [
    "### 1) Download dataset and create college database:"
   ]
  },
  {
   "cell_type": "code",
   "execution_count": 1,
   "id": "running-india",
   "metadata": {},
   "outputs": [
    {
     "name": "stdout",
     "output_type": "stream",
     "text": [
      "env: INSTANCE=my\n"
     ]
    }
   ],
   "source": [
    "%env INSTANCE=my"
   ]
  },
  {
   "cell_type": "code",
   "execution_count": 2,
   "id": "british-affair",
   "metadata": {},
   "outputs": [
    {
     "name": "stdout",
     "output_type": "stream",
     "text": [
      "Copying gs://cs327e-open-access/mysql_college.zip...\n",
      "/ [1 files][  1.9 KiB/  1.9 KiB]                                                \n",
      "Operation completed over 1 objects/1.9 KiB.                                      \n"
     ]
    }
   ],
   "source": [
    "!gsutil cp gs://cs327e-open-access/mysql_college.zip ."
   ]
  },
  {
   "cell_type": "code",
   "execution_count": 3,
   "id": "fourth-literature",
   "metadata": {},
   "outputs": [
    {
     "name": "stdout",
     "output_type": "stream",
     "text": [
      "Archive:  mysql_college.zip\n",
      "  inflating: class.csv               \n",
      "  inflating: create_tables.sql       \n",
      "  inflating: instructor.csv          \n",
      "  inflating: student.csv             \n",
      "  inflating: teaches.csv             \n"
     ]
    }
   ],
   "source": [
    "!unzip mysql_college.zip"
   ]
  },
  {
   "cell_type": "code",
   "execution_count": 4,
   "id": "stylish-composite",
   "metadata": {},
   "outputs": [],
   "source": [
    "!mysql < /home/jupyter/snippets/create_tables.sql"
   ]
  },
  {
   "cell_type": "code",
   "execution_count": 5,
   "id": "saving-satin",
   "metadata": {},
   "outputs": [
    {
     "name": "stdout",
     "output_type": "stream",
     "text": [
      "+-------------------+\n",
      "| Tables_in_college |\n",
      "+-------------------+\n",
      "| Class             |\n",
      "| Instructor        |\n",
      "| Student           |\n",
      "| Teaches           |\n",
      "+-------------------+\n"
     ]
    }
   ],
   "source": [
    "!mysql college -e \"show tables\""
   ]
  },
  {
   "cell_type": "markdown",
   "id": "weird-reply",
   "metadata": {},
   "source": [
    "### 2) Describe each table:"
   ]
  },
  {
   "cell_type": "code",
   "execution_count": 6,
   "id": "former-habitat",
   "metadata": {},
   "outputs": [
    {
     "name": "stdout",
     "output_type": "stream",
     "text": [
      "+---------+--------------+------+-----+---------+-------+\n",
      "| Field   | Type         | Null | Key | Default | Extra |\n",
      "+---------+--------------+------+-----+---------+-------+\n",
      "| sid     | char(12)     | YES  |     | NULL    |       |\n",
      "| cno     | char(6)      | YES  |     | NULL    |       |\n",
      "| cname   | varchar(200) | YES  |     | NULL    |       |\n",
      "| credits | int(11)      | YES  |     | NULL    |       |\n",
      "| grade   | char(2)      | YES  |     | NULL    |       |\n",
      "+---------+--------------+------+-----+---------+-------+\n"
     ]
    }
   ],
   "source": [
    "!mysql college -e \"desc Class\""
   ]
  },
  {
   "cell_type": "code",
   "execution_count": 7,
   "id": "negative-final",
   "metadata": {},
   "outputs": [
    {
     "name": "stdout",
     "output_type": "stream",
     "text": [
      "+-------+--------------+------+-----+---------+-------+\n",
      "| Field | Type         | Null | Key | Default | Extra |\n",
      "+-------+--------------+------+-----+---------+-------+\n",
      "| tid   | char(12)     | YES  |     | NULL    |       |\n",
      "| name  | varchar(200) | YES  |     | NULL    |       |\n",
      "| dept  | varchar(200) | YES  |     | NULL    |       |\n",
      "+-------+--------------+------+-----+---------+-------+\n"
     ]
    }
   ],
   "source": [
    "!mysql college -e \"desc Instructor\""
   ]
  },
  {
   "cell_type": "code",
   "execution_count": 1,
   "id": "perceived-techno",
   "metadata": {},
   "outputs": [
    {
     "name": "stdout",
     "output_type": "stream",
     "text": [
      "+--------+--------------+------+-----+---------+-------+\n",
      "| Field  | Type         | Null | Key | Default | Extra |\n",
      "+--------+--------------+------+-----+---------+-------+\n",
      "| sid    | char(12)     | YES  |     | NULL    |       |\n",
      "| fname  | varchar(200) | YES  |     | NULL    |       |\n",
      "| lname  | varchar(200) | YES  |     | NULL    |       |\n",
      "| dob    | date         | YES  |     | NULL    |       |\n",
      "| status | char(3)      | YES  |     | NULL    |       |\n",
      "+--------+--------------+------+-----+---------+-------+\n"
     ]
    }
   ],
   "source": [
    "!mysql college -e \"desc Student\""
   ]
  },
  {
   "cell_type": "code",
   "execution_count": 9,
   "id": "social-bruce",
   "metadata": {},
   "outputs": [
    {
     "name": "stdout",
     "output_type": "stream",
     "text": [
      "+-------+----------+------+-----+---------+-------+\n",
      "| Field | Type     | Null | Key | Default | Extra |\n",
      "+-------+----------+------+-----+---------+-------+\n",
      "| tid   | char(12) | YES  |     | NULL    |       |\n",
      "| cno   | char(6)  | YES  |     | NULL    |       |\n",
      "+-------+----------+------+-----+---------+-------+\n"
     ]
    }
   ],
   "source": [
    "!mysql college -e \"desc Teaches\""
   ]
  },
  {
   "cell_type": "markdown",
   "id": "veterinary-purple",
   "metadata": {},
   "source": [
    "### 3) Import tables (Class, Student, Instructor, Teaches):"
   ]
  },
  {
   "cell_type": "code",
   "execution_count": 11,
   "id": "driving-sword",
   "metadata": {},
   "outputs": [
    {
     "name": "stdout",
     "output_type": "stream",
     "text": [
      "Importing data into Cloud SQL instance...done.                                 \n",
      "Imported data from [gs://cs327e-open-access/mysql_college/class.csv] into [https://sqladmin.googleapis.com/sql/v1beta4/projects/cs327e-sp2021/instances/my].\n"
     ]
    }
   ],
   "source": [
    "!gcloud sql import csv $INSTANCE gs://cs327e-open-access/mysql_college/class.csv --database=college --table=Class --quiet"
   ]
  },
  {
   "cell_type": "code",
   "execution_count": null,
   "id": "provincial-brazil",
   "metadata": {},
   "outputs": [],
   "source": [
    "!gcloud sql import csv $INSTANCE gs://cs327e-open-access/mysql_college/instructor.csv --database=college --table=Instructor --quiet"
   ]
  },
  {
   "cell_type": "code",
   "execution_count": null,
   "id": "adapted-validity",
   "metadata": {},
   "outputs": [],
   "source": [
    "!gcloud sql import csv $INSTANCE gs://cs327e-open-access/mysql_college/student.csv --database=college --table=Student --quiet"
   ]
  },
  {
   "cell_type": "code",
   "execution_count": null,
   "id": "sublime-adolescent",
   "metadata": {},
   "outputs": [],
   "source": [
    "!gcloud sql import csv $INSTANCE gs://cs327e-open-access/mysql_college/teaches.csv --database=college --table=Teaches --quiet"
   ]
  },
  {
   "cell_type": "markdown",
   "id": "pending-denmark",
   "metadata": {},
   "source": [
    "### 4) Check record count for each table:"
   ]
  },
  {
   "cell_type": "code",
   "execution_count": 13,
   "id": "incorporate-enzyme",
   "metadata": {},
   "outputs": [
    {
     "name": "stdout",
     "output_type": "stream",
     "text": [
      "+----------+\n",
      "| count(*) |\n",
      "+----------+\n",
      "|       17 |\n",
      "+----------+\n"
     ]
    }
   ],
   "source": [
    "!mysql college -e \"select count(*) from Class\""
   ]
  },
  {
   "cell_type": "code",
   "execution_count": 14,
   "id": "latest-crawford",
   "metadata": {},
   "outputs": [
    {
     "name": "stdout",
     "output_type": "stream",
     "text": [
      "+----------+\n",
      "| count(*) |\n",
      "+----------+\n",
      "|       13 |\n",
      "+----------+\n"
     ]
    }
   ],
   "source": [
    "!mysql college -e \"select count(*) from Student\""
   ]
  },
  {
   "cell_type": "code",
   "execution_count": 15,
   "id": "protected-jewel",
   "metadata": {},
   "outputs": [
    {
     "name": "stdout",
     "output_type": "stream",
     "text": [
      "+----------+\n",
      "| count(*) |\n",
      "+----------+\n",
      "|       11 |\n",
      "+----------+\n"
     ]
    }
   ],
   "source": [
    "!mysql college -e \"select count(*) from Instructor\""
   ]
  },
  {
   "cell_type": "code",
   "execution_count": 12,
   "id": "authorized-timing",
   "metadata": {},
   "outputs": [
    {
     "name": "stdout",
     "output_type": "stream",
     "text": [
      "+----------+\n",
      "| count(*) |\n",
      "+----------+\n",
      "|       13 |\n",
      "+----------+\n"
     ]
    }
   ],
   "source": [
    "!mysql college -e \"select count(*) from Teaches\""
   ]
  },
  {
   "cell_type": "markdown",
   "id": "documentary-operations",
   "metadata": {},
   "source": [
    "### 5) Sample records from each table: "
   ]
  },
  {
   "cell_type": "code",
   "execution_count": 25,
   "id": "sticky-horse",
   "metadata": {},
   "outputs": [
    {
     "name": "stdout",
     "output_type": "stream",
     "text": [
      "+----------+---------+----------+-------------+--------+\n",
      "| sid      | fname   | lname    | dob         | status |\n",
      "+----------+---------+----------+-------------+--------+\n",
      "| kev18    | Kevin   | Lin      | May-10-1999 | CUR    |\n",
      "| natea    | Nathan  | Anderson | Apr-04-2000 | PRO    |\n",
      "| sudeepa4 | Sudeepa | Roy      | Oct-01-2001 | CUR    |\n",
      "| kgomez9  | Katie   | Gomez    | 2001-03-03  | PRO    |\n",
      "| jerryh   | Jerry   | Hargrove | 1999-01-03  | CUR    |\n",
      "| jc       | James   | Cowe     | 2000-04-22  | CUR    |\n",
      "| dchen    | David   | Chen     | 08/22/2000  | PRO    |\n",
      "| ryan22   | Ryan    | Watson   | 07/11/2000  | PRO    |\n",
      "| paulg    | Paul    | Gore     | 09/17/2000  | CUR    |\n",
      "| aprilz   | April   | Lopez    | 01/10/2000  | CUR    |\n",
      "| nitinm   | Nitin   | Mogal    | 07/31/1999  | PRO    |\n",
      "| bzen26   | Biswa   | Zen      | 04/22/1998  | CUR    |\n",
      "+----------+---------+----------+-------------+--------+\n"
     ]
    }
   ],
   "source": [
    "!mysql college -e \"select * from Student\""
   ]
  },
  {
   "cell_type": "code",
   "execution_count": 27,
   "id": "prompt-latex",
   "metadata": {},
   "outputs": [
    {
     "name": "stdout",
     "output_type": "stream",
     "text": [
      "+----------+--------+---------------------------------------+---------+-------+\n",
      "| sid      | cno    | cname                                 | credits | grade |\n",
      "+----------+--------+---------------------------------------+---------+-------+\n",
      "| aprilz   | CS373  | Software Engineering                  |       3 |       |\n",
      "| aprilz   | M358K  | Applied Statistics                    |       3 |       |\n",
      "| bzen26   | CS313E | Elements of Software Engineering      |       3 | B+    |\n",
      "| jc       | CS327E | Elements of Databases                 |       3 |       |\n",
      "| jc       | CS331E | Elements of Software Engineering      |       3 |       |\n",
      "| jc       | CS313E | Elements of Software Design           |       3 |       |\n",
      "| jerryh   | CS329E | Elements of Web Programming           |       3 | A-    |\n",
      "| jerryh   | CS327E | Elements of Databases                 |       3 | B     |\n",
      "| kev18    | CS329E | Elements of Web Programming           |       3 |       |\n",
      "| kev18    | CS347  | Data Management                       |       3 |       |\n",
      "| kev18    | M362K  | Probability I                         |       3 |       |\n",
      "| paulg    | CS313E | Elements of Software Design           |       3 |       |\n",
      "| paulg    | CS326E | Elements of Networking                |       3 | A-    |\n",
      "| paulg    | CS329E | Elements of Web Programming           |       3 | A     |\n",
      "| sudeepa4 | M328K  | Intro to Number Theory                |       3 |       |\n",
      "| sudeepa4 | CS303E | Elements of Computers and Programming |       3 | NULL  |\n",
      "+----------+--------+---------------------------------------+---------+-------+\n"
     ]
    }
   ],
   "source": [
    "!mysql college -e \"select * from Class order by sid\""
   ]
  },
  {
   "cell_type": "code",
   "execution_count": 28,
   "id": "wooden-regard",
   "metadata": {},
   "outputs": [
    {
     "name": "stdout",
     "output_type": "stream",
     "text": [
      "+---------+----------------+------------------+\n",
      "| tid     | name           | dept             |\n",
      "+---------+----------------+------------------+\n",
      "| scohen  | Shirley Cohen  | Computer Science |\n",
      "| neeman  | Neeman, Joe    | Mathematics      |\n",
      "| bulko   | Bulko, Bill    | Computer Science |\n",
      "| fares   | Fraij, Fares   | Computer Science |\n",
      "| koch    | Hans Koch      | Mathematics      |\n",
      "| cannata | Cannata, Phil  | Computer Science |\n",
      "| downing | Downing, Glenn | Computer Science |\n",
      "| mueller | Peter Mueller  | Mathematics      |\n",
      "| tran    | Ngoc Tran      | Mathematics      |\n",
      "| mitra   | Shyamal Mitra  | Computer Science |\n",
      "+---------+----------------+------------------+\n"
     ]
    }
   ],
   "source": [
    "!mysql college -e \"select * from Instructor\""
   ]
  },
  {
   "cell_type": "code",
   "execution_count": 30,
   "id": "chicken-escape",
   "metadata": {},
   "outputs": [
    {
     "name": "stdout",
     "output_type": "stream",
     "text": [
      "+---------+--------+\n",
      "| tid     | cno    |\n",
      "+---------+--------+\n",
      "| neeman  | M362K  |\n",
      "| mitra   | CS329E |\n",
      "| fares   | CS331E |\n",
      "| downing | CS373  |\n",
      "| mitra   | CS313E |\n",
      "| mueller | M362K  |\n",
      "| cannata | CS326E |\n",
      "| tran    | M358K  |\n",
      "| koch    | M328K  |\n",
      "| bulko   | CS303E |\n",
      "| scohen  | CS327E |\n",
      "| cannata | CS347  |\n",
      "+---------+--------+\n"
     ]
    }
   ],
   "source": [
    "!mysql college -e \"select * from Teaches\""
   ]
  },
  {
   "cell_type": "markdown",
   "id": "korean-combination",
   "metadata": {},
   "source": [
    "### Delete column header record from each table"
   ]
  },
  {
   "cell_type": "code",
   "execution_count": 21,
   "id": "blond-windows",
   "metadata": {},
   "outputs": [],
   "source": [
    "!mysql college -e \"delete from Teaches where tid = 'tid'\""
   ]
  },
  {
   "cell_type": "code",
   "execution_count": 22,
   "id": "framed-costume",
   "metadata": {},
   "outputs": [],
   "source": [
    "!mysql college -e \"delete from Instructor where tid = 'tid'\""
   ]
  },
  {
   "cell_type": "code",
   "execution_count": 23,
   "id": "fluid-smoke",
   "metadata": {},
   "outputs": [],
   "source": [
    "!mysql college -e \"delete from Class where sid = 'sid'\""
   ]
  },
  {
   "cell_type": "code",
   "execution_count": 2,
   "id": "metropolitan-candle",
   "metadata": {},
   "outputs": [],
   "source": [
    "!mysql college -e \"delete from Student where sid = 'sid'\""
   ]
  },
  {
   "cell_type": "markdown",
   "id": "median-champagne",
   "metadata": {},
   "source": [
    "### 6) Add Primary Keys"
   ]
  },
  {
   "cell_type": "code",
   "execution_count": 3,
   "id": "existing-trinidad",
   "metadata": {},
   "outputs": [],
   "source": [
    "!mysql college -e \"alter table Student add primary key (sid)\""
   ]
  },
  {
   "cell_type": "code",
   "execution_count": 29,
   "id": "challenging-prague",
   "metadata": {},
   "outputs": [],
   "source": [
    "!mysql college -e \"alter table Instructor add primary key (tid)\""
   ]
  },
  {
   "cell_type": "code",
   "execution_count": 31,
   "id": "ready-elite",
   "metadata": {},
   "outputs": [],
   "source": [
    "!mysql college -e \"alter table Teaches add primary key (tid, cno)\""
   ]
  },
  {
   "cell_type": "code",
   "execution_count": 4,
   "id": "changing-burton",
   "metadata": {},
   "outputs": [
    {
     "name": "stdout",
     "output_type": "stream",
     "text": [
      "+--------+--------------+------+-----+---------+-------+\n",
      "| Field  | Type         | Null | Key | Default | Extra |\n",
      "+--------+--------------+------+-----+---------+-------+\n",
      "| sid    | char(12)     | NO   | PRI | NULL    |       |\n",
      "| fname  | varchar(200) | YES  |     | NULL    |       |\n",
      "| lname  | varchar(200) | YES  |     | NULL    |       |\n",
      "| dob    | date         | YES  |     | NULL    |       |\n",
      "| status | char(3)      | YES  |     | NULL    |       |\n",
      "+--------+--------------+------+-----+---------+-------+\n"
     ]
    }
   ],
   "source": [
    "!mysql college -e \"desc Student\""
   ]
  },
  {
   "cell_type": "markdown",
   "id": "pregnant-meeting",
   "metadata": {},
   "source": [
    "### 7) Add Foreign Key"
   ]
  },
  {
   "cell_type": "code",
   "execution_count": 32,
   "id": "insured-optimization",
   "metadata": {},
   "outputs": [],
   "source": [
    "!mysql college -e \"alter table Teaches add constraint foreign key (tid) references Instructor (tid)\""
   ]
  },
  {
   "cell_type": "code",
   "execution_count": 5,
   "id": "recent-majority",
   "metadata": {},
   "outputs": [
    {
     "name": "stdout",
     "output_type": "stream",
     "text": [
      "+---------+-----------------------------------------------------------------------------------------------------------------------------------------------------------------------------------------------------------------------------------+\n",
      "| Table   | Create Table                                                                                                                                                                                                                      |\n",
      "+---------+-----------------------------------------------------------------------------------------------------------------------------------------------------------------------------------------------------------------------------------+\n",
      "| Teaches | CREATE TABLE `Teaches` (\n",
      "  `tid` char(12) NOT NULL,\n",
      "  `cno` char(6) NOT NULL,\n",
      "  PRIMARY KEY (`tid`,`cno`),\n",
      "  CONSTRAINT `Teaches_ibfk_1` FOREIGN KEY (`tid`) REFERENCES `Instructor` (`tid`)\n",
      ") ENGINE=InnoDB DEFAULT CHARSET=utf8 |\n",
      "+---------+-----------------------------------------------------------------------------------------------------------------------------------------------------------------------------------------------------------------------------------+\n"
     ]
    }
   ],
   "source": [
    "!mysql college -e \"show create table Teaches\""
   ]
  },
  {
   "cell_type": "markdown",
   "id": "sharp-arrow",
   "metadata": {},
   "source": [
    "### 8) Testing Foreign Key constraint on Teaches.tid"
   ]
  },
  {
   "cell_type": "code",
   "execution_count": 33,
   "id": "comparable-hudson",
   "metadata": {},
   "outputs": [
    {
     "name": "stdout",
     "output_type": "stream",
     "text": [
      "ERROR 1452 (23000) at line 1: Cannot add or update a child row: a foreign key constraint fails (`college`.`Teaches`, CONSTRAINT `Teaches_ibfk_1` FOREIGN KEY (`tid`) REFERENCES `Instructor` (`tid`))\n"
     ]
    }
   ],
   "source": [
    "!mysql college -e \"insert into Teaches (tid, cno) values ('norman', 'cs313')\""
   ]
  },
  {
   "cell_type": "code",
   "execution_count": null,
   "id": "contained-desire",
   "metadata": {},
   "outputs": [],
   "source": []
  }
 ],
 "metadata": {
  "environment": {
   "name": "common-cpu.mnightly-2021-01-20-debian-10-test",
   "type": "gcloud",
   "uri": "gcr.io/deeplearning-platform-release/base-cpu:mnightly-2021-01-20-debian-10-test"
  },
  "kernelspec": {
   "display_name": "Python 3",
   "language": "python",
   "name": "python3"
  },
  "language_info": {
   "codemirror_mode": {
    "name": "ipython",
    "version": 3
   },
   "file_extension": ".py",
   "mimetype": "text/x-python",
   "name": "python",
   "nbconvert_exporter": "python",
   "pygments_lexer": "ipython3",
   "version": "3.7.9"
  }
 },
 "nbformat": 4,
 "nbformat_minor": 5
}
