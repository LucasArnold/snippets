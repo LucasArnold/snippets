{
 "cells": [
  {
   "cell_type": "code",
   "execution_count": 1,
   "metadata": {},
   "outputs": [
    {
     "name": "stdout",
     "output_type": "stream",
     "text": [
      "env: PGDATABASE=postgres\n",
      "env: PGHOST=10.66.16.3\n",
      "env: PGPORT=5432\n",
      "env: PGUSER=postgres\n",
      "env: PGPASSWORD=cs327e!\n",
      "env: PGINSTANCE=pg\n"
     ]
    }
   ],
   "source": [
    "%env PGDATABASE=postgres\n",
    "%env PGHOST=your_IP_addr\n",
    "%env PGPORT=5432\n",
    "%env PGUSER=postgres\n",
    "%env PGPASSWORD=your_password\n",
    "%env PGINSTANCE=your_instance"
   ]
  },
  {
   "cell_type": "markdown",
   "metadata": {},
   "source": [
    "### Download Dataset"
   ]
  },
  {
   "cell_type": "code",
   "execution_count": 2,
   "metadata": {},
   "outputs": [
    {
     "name": "stdout",
     "output_type": "stream",
     "text": [
      "Copying gs://cs327e-open-access/postgres_college.zip...\n",
      "/ [1 files][  1.9 KiB/  1.9 KiB]                                                \n",
      "Operation completed over 1 objects/1.9 KiB.                                      \n"
     ]
    }
   ],
   "source": [
    "!gsutil cp gs://cs327e-open-access/postgres_college.zip ."
   ]
  },
  {
   "cell_type": "code",
   "execution_count": 3,
   "metadata": {},
   "outputs": [
    {
     "name": "stdout",
     "output_type": "stream",
     "text": [
      "Archive:  postgres_college.zip\n",
      "  inflating: class.csv               \n",
      "  inflating: create_tables.sql       \n",
      "  inflating: instructor.csv          \n",
      "  inflating: student.csv             \n",
      "  inflating: teaches.csv             \n"
     ]
    }
   ],
   "source": [
    "!unzip postgres_college.zip"
   ]
  },
  {
   "cell_type": "markdown",
   "metadata": {},
   "source": [
    "### Create tables"
   ]
  },
  {
   "cell_type": "code",
   "execution_count": 2,
   "metadata": {},
   "outputs": [
    {
     "name": "stdout",
     "output_type": "stream",
     "text": [
      "psql:/home/jupyter/snippets/create_tables.sql:1: NOTICE:  drop cascades to 5 other objects\n",
      "DETAIL:  drop cascades to table college.student\n",
      "drop cascades to table college.instructor\n",
      "drop cascades to table college.teaches\n",
      "drop cascades to table college.takes\n",
      "drop cascades to table college.class\n",
      "DROP SCHEMA\n",
      "CREATE SCHEMA\n",
      "SET\n",
      "CREATE TABLE\n",
      "CREATE TABLE\n",
      "CREATE TABLE\n",
      "CREATE TABLE\n"
     ]
    }
   ],
   "source": [
    "!psql -c \"\\i /home/jupyter/snippets/create_tables.sql\""
   ]
  },
  {
   "cell_type": "code",
   "execution_count": 3,
   "metadata": {},
   "outputs": [
    {
     "name": "stdout",
     "output_type": "stream",
     "text": [
      "                       Table \"college.class\"\n",
      " Column  |          Type          | Collation | Nullable | Default \n",
      "---------+------------------------+-----------+----------+---------\n",
      " sid     | character(12)          |           |          | \n",
      " cno     | character(6)           |           |          | \n",
      " cname   | character varying(200) |           |          | \n",
      " credits | integer                |           |          | \n",
      " grade   | character(2)           |           |          | \n",
      "\n"
     ]
    }
   ],
   "source": [
    "!psql -c \"\\d college.Class\""
   ]
  },
  {
   "cell_type": "code",
   "execution_count": 4,
   "metadata": {},
   "outputs": [
    {
     "name": "stdout",
     "output_type": "stream",
     "text": [
      "                     Table \"college.student\"\n",
      " Column |          Type          | Collation | Nullable | Default \n",
      "--------+------------------------+-----------+----------+---------\n",
      " sid    | character(12)          |           |          | \n",
      " fname  | character varying(200) |           |          | \n",
      " lname  | character varying(200) |           |          | \n",
      " dob    | date                   |           |          | \n",
      " status | character(3)           |           |          | \n",
      "\n"
     ]
    }
   ],
   "source": [
    "!psql -c \"\\d college.Student\""
   ]
  },
  {
   "cell_type": "code",
   "execution_count": 5,
   "metadata": {},
   "outputs": [
    {
     "name": "stdout",
     "output_type": "stream",
     "text": [
      "                    Table \"college.instructor\"\n",
      " Column |          Type          | Collation | Nullable | Default \n",
      "--------+------------------------+-----------+----------+---------\n",
      " tid    | character(12)          |           |          | \n",
      " name   | character varying(200) |           |          | \n",
      " dept   | character varying(200) |           |          | \n",
      "\n"
     ]
    }
   ],
   "source": [
    "!psql -c \"\\d college.Instructor\""
   ]
  },
  {
   "cell_type": "code",
   "execution_count": 6,
   "metadata": {},
   "outputs": [
    {
     "name": "stdout",
     "output_type": "stream",
     "text": [
      "                 Table \"college.teaches\"\n",
      " Column |     Type      | Collation | Nullable | Default \n",
      "--------+---------------+-----------+----------+---------\n",
      " tid    | character(12) |           |          | \n",
      " cno    | character(6)  |           |          | \n",
      "\n"
     ]
    }
   ],
   "source": [
    "!psql -c \"\\d college.Teaches\""
   ]
  },
  {
   "cell_type": "markdown",
   "metadata": {},
   "source": [
    "### Populate Database"
   ]
  },
  {
   "cell_type": "code",
   "execution_count": 7,
   "metadata": {},
   "outputs": [
    {
     "name": "stdout",
     "output_type": "stream",
     "text": [
      "Importing data into Cloud SQL instance...done.                                 \n",
      "Imported data from [gs://cs327e-open-access/postgres_college/class.csv] into [https://sqladmin.googleapis.com/sql/v1beta4/projects/cs327e-sp2021/instances/pg].\n"
     ]
    }
   ],
   "source": [
    "!gcloud sql import csv $PGINSTANCE gs://cs327e-open-access/postgres_college/class.csv --database=postgres --table=college.Class --quiet"
   ]
  },
  {
   "cell_type": "code",
   "execution_count": 8,
   "metadata": {},
   "outputs": [
    {
     "name": "stdout",
     "output_type": "stream",
     "text": [
      "Importing data into Cloud SQL instance...done.                                 \n",
      "Imported data from [gs://cs327e-open-access/postgres_college/student.csv] into [https://sqladmin.googleapis.com/sql/v1beta4/projects/cs327e-sp2021/instances/pg].\n"
     ]
    }
   ],
   "source": [
    "!gcloud sql import csv $PGINSTANCE gs://cs327e-open-access/postgres_college/student.csv --database=postgres --table=college.Student --quiet"
   ]
  },
  {
   "cell_type": "code",
   "execution_count": 9,
   "metadata": {},
   "outputs": [
    {
     "name": "stdout",
     "output_type": "stream",
     "text": [
      "Importing data into Cloud SQL instance...done.                                 \n",
      "Imported data from [gs://cs327e-open-access/postgres_college/instructor.csv] into [https://sqladmin.googleapis.com/sql/v1beta4/projects/cs327e-sp2021/instances/pg].\n"
     ]
    }
   ],
   "source": [
    "!gcloud sql import csv $PGINSTANCE gs://cs327e-open-access/postgres_college/instructor.csv --database=postgres --table=college.Instructor --quiet"
   ]
  },
  {
   "cell_type": "code",
   "execution_count": 10,
   "metadata": {},
   "outputs": [
    {
     "name": "stdout",
     "output_type": "stream",
     "text": [
      "Importing data into Cloud SQL instance...done.                                 \n",
      "Imported data from [gs://cs327e-open-access/postgres_college/teaches.csv] into [https://sqladmin.googleapis.com/sql/v1beta4/projects/cs327e-sp2021/instances/pg].\n"
     ]
    }
   ],
   "source": [
    "!gcloud sql import csv $PGINSTANCE gs://cs327e-open-access/postgres_college/teaches.csv --database=postgres --table=college.Teaches --quiet"
   ]
  },
  {
   "cell_type": "markdown",
   "metadata": {},
   "source": [
    "### Verify data load"
   ]
  },
  {
   "cell_type": "code",
   "execution_count": 11,
   "metadata": {},
   "outputs": [
    {
     "name": "stdout",
     "output_type": "stream",
     "text": [
      " count \n",
      "-------\n",
      "    16\n",
      "(1 row)\n",
      "\n"
     ]
    }
   ],
   "source": [
    "!psql -c \"select count(*) from college.Class\""
   ]
  },
  {
   "cell_type": "code",
   "execution_count": 12,
   "metadata": {},
   "outputs": [
    {
     "name": "stdout",
     "output_type": "stream",
     "text": [
      " count \n",
      "-------\n",
      "    12\n",
      "(1 row)\n",
      "\n"
     ]
    }
   ],
   "source": [
    "!psql -c \"select count(*) from college.Student\""
   ]
  },
  {
   "cell_type": "code",
   "execution_count": 13,
   "metadata": {},
   "outputs": [
    {
     "name": "stdout",
     "output_type": "stream",
     "text": [
      " count \n",
      "-------\n",
      "    10\n",
      "(1 row)\n",
      "\n"
     ]
    }
   ],
   "source": [
    "!psql -c \"select count(*) from college.Instructor\""
   ]
  },
  {
   "cell_type": "code",
   "execution_count": 14,
   "metadata": {},
   "outputs": [
    {
     "name": "stdout",
     "output_type": "stream",
     "text": [
      " count \n",
      "-------\n",
      "    12\n",
      "(1 row)\n",
      "\n"
     ]
    }
   ],
   "source": [
    "!psql -c \"select count(*) from college.Teaches\""
   ]
  },
  {
   "cell_type": "markdown",
   "metadata": {},
   "source": [
    "### Remodel Class table using CTAS statement"
   ]
  },
  {
   "cell_type": "code",
   "execution_count": 16,
   "metadata": {},
   "outputs": [
    {
     "name": "stdout",
     "output_type": "stream",
     "text": [
      "SELECT 12\n"
     ]
    }
   ],
   "source": [
    "!psql -c \"create table college.Class2 as select distinct cno, cname, credits from college.Class\""
   ]
  },
  {
   "cell_type": "code",
   "execution_count": 17,
   "metadata": {},
   "outputs": [
    {
     "name": "stdout",
     "output_type": "stream",
     "text": [
      "  cno   |                 cname                 | credits \n",
      "--------+---------------------------------------+---------\n",
      " CS303E | Elements of Computers and Programming |       3\n",
      " CS313E | Elements of Software Design           |       3\n",
      " CS313E | Elements of Software Engineering      |       3\n",
      " CS326E | Elements of Networking                |       3\n",
      " CS327E | Elements of Databases                 |       3\n",
      " CS329E | Elements of Web Programming           |       3\n",
      " CS331E | Elements of Software Engineering      |       3\n",
      " CS347  | Data Management                       |       3\n",
      " CS373  | Software Engineering                  |       3\n",
      " M328K  | Intro to Number Theory                |       3\n",
      " M358K  | Applied Statistics                    |       3\n",
      " M362K  | Probability I                         |       3\n",
      "(12 rows)\n",
      "\n"
     ]
    }
   ],
   "source": [
    "!psql -c \"select * from college.Class2 order by cno\""
   ]
  },
  {
   "cell_type": "code",
   "execution_count": 18,
   "metadata": {},
   "outputs": [
    {
     "name": "stdout",
     "output_type": "stream",
     "text": [
      "DELETE 1\n"
     ]
    }
   ],
   "source": [
    "!psql -c \"delete from college.Class2 where cno = 'CS313E' and cname = 'Elements of Software Engineering'\""
   ]
  },
  {
   "cell_type": "code",
   "execution_count": 19,
   "metadata": {},
   "outputs": [
    {
     "name": "stdout",
     "output_type": "stream",
     "text": [
      "  cno   |                 cname                 | credits \n",
      "--------+---------------------------------------+---------\n",
      " CS303E | Elements of Computers and Programming |       3\n",
      " CS313E | Elements of Software Design           |       3\n",
      " CS326E | Elements of Networking                |       3\n",
      " CS327E | Elements of Databases                 |       3\n",
      " CS329E | Elements of Web Programming           |       3\n",
      " CS331E | Elements of Software Engineering      |       3\n",
      " CS347  | Data Management                       |       3\n",
      " CS373  | Software Engineering                  |       3\n",
      " M328K  | Intro to Number Theory                |       3\n",
      " M358K  | Applied Statistics                    |       3\n",
      " M362K  | Probability I                         |       3\n",
      "(11 rows)\n",
      "\n"
     ]
    }
   ],
   "source": [
    "!psql -c \"select * from college.Class2 order by cno\""
   ]
  },
  {
   "cell_type": "markdown",
   "metadata": {},
   "source": [
    "### Create Takes table from old Class"
   ]
  },
  {
   "cell_type": "code",
   "execution_count": 20,
   "metadata": {},
   "outputs": [
    {
     "name": "stdout",
     "output_type": "stream",
     "text": [
      "SELECT 16\n"
     ]
    }
   ],
   "source": [
    "!psql -c \"create table college.Takes as select sid, cno, grade from college.Class\""
   ]
  },
  {
   "cell_type": "code",
   "execution_count": 21,
   "metadata": {},
   "outputs": [
    {
     "name": "stdout",
     "output_type": "stream",
     "text": [
      "     sid      |  cno   | grade \n",
      "--------------+--------+-------\n",
      " aprilz       | CS373  | \n",
      " aprilz       | M358K  | \n",
      " bzen26       | CS313E | B+\n",
      " jc           | CS327E | \n",
      " jc           | CS331E | \n",
      " jc           | CS313E | \n",
      " jerryh       | CS329E | A-\n",
      " jerryh       | CS327E | B \n",
      " kev18        | CS329E | \n",
      " kev18        | CS347  | \n",
      " kev18        | M362K  | \n",
      " paulg        | CS313E | \n",
      " paulg        | CS329E | A \n",
      " paulg        | CS326E | A-\n",
      " sudeepa4     | M328K  | \n",
      " sudeepa4     | CS303E | \n",
      "(16 rows)\n",
      "\n"
     ]
    }
   ],
   "source": [
    "!psql -c \"select * from college.Takes order by sid\""
   ]
  },
  {
   "cell_type": "markdown",
   "metadata": {},
   "source": [
    "### Drop and rename Class tables"
   ]
  },
  {
   "cell_type": "code",
   "execution_count": 22,
   "metadata": {},
   "outputs": [
    {
     "name": "stdout",
     "output_type": "stream",
     "text": [
      "DROP TABLE\n"
     ]
    }
   ],
   "source": [
    "!psql -c \"drop table college.Class\""
   ]
  },
  {
   "cell_type": "code",
   "execution_count": 23,
   "metadata": {},
   "outputs": [
    {
     "name": "stdout",
     "output_type": "stream",
     "text": [
      "ALTER TABLE\n"
     ]
    }
   ],
   "source": [
    "!psql -c \"alter table college.Class2 rename to Class\""
   ]
  },
  {
   "cell_type": "markdown",
   "metadata": {},
   "source": [
    "### Add primary keys"
   ]
  },
  {
   "cell_type": "code",
   "execution_count": 24,
   "metadata": {},
   "outputs": [
    {
     "name": "stdout",
     "output_type": "stream",
     "text": [
      "ALTER TABLE\n"
     ]
    }
   ],
   "source": [
    "!psql -c \"alter table college.Class add primary key (cno)\""
   ]
  },
  {
   "cell_type": "code",
   "execution_count": 25,
   "metadata": {},
   "outputs": [
    {
     "name": "stdout",
     "output_type": "stream",
     "text": [
      "ALTER TABLE\n"
     ]
    }
   ],
   "source": [
    "!psql -c \"alter table college.Student add primary key (sid)\""
   ]
  },
  {
   "cell_type": "code",
   "execution_count": 26,
   "metadata": {},
   "outputs": [
    {
     "name": "stdout",
     "output_type": "stream",
     "text": [
      "ALTER TABLE\n"
     ]
    }
   ],
   "source": [
    "!psql -c \"alter table college.Takes add primary key (sid, cno)\""
   ]
  },
  {
   "cell_type": "code",
   "execution_count": 27,
   "metadata": {},
   "outputs": [
    {
     "name": "stdout",
     "output_type": "stream",
     "text": [
      "ALTER TABLE\n"
     ]
    }
   ],
   "source": [
    "!psql -c \"alter table college.Instructor add primary key (tid)\""
   ]
  },
  {
   "cell_type": "code",
   "execution_count": 28,
   "metadata": {},
   "outputs": [
    {
     "name": "stdout",
     "output_type": "stream",
     "text": [
      "ALTER TABLE\n"
     ]
    }
   ],
   "source": [
    "!psql -c \"alter table college.Teaches add primary key (tid, cno)\""
   ]
  },
  {
   "cell_type": "markdown",
   "metadata": {},
   "source": [
    "### Add foreign keys"
   ]
  },
  {
   "cell_type": "code",
   "execution_count": 29,
   "metadata": {},
   "outputs": [
    {
     "name": "stdout",
     "output_type": "stream",
     "text": [
      "ALTER TABLE\n"
     ]
    }
   ],
   "source": [
    "!psql -c \"alter table college.Takes add foreign key (sid) references college.Student (sid)\""
   ]
  },
  {
   "cell_type": "code",
   "execution_count": 30,
   "metadata": {},
   "outputs": [
    {
     "name": "stdout",
     "output_type": "stream",
     "text": [
      "ALTER TABLE\n"
     ]
    }
   ],
   "source": [
    "!psql -c \"alter table college.Takes add foreign key (cno) references college.Class (cno)\""
   ]
  },
  {
   "cell_type": "code",
   "execution_count": 31,
   "metadata": {},
   "outputs": [
    {
     "name": "stdout",
     "output_type": "stream",
     "text": [
      "ALTER TABLE\n"
     ]
    }
   ],
   "source": [
    "!psql -c \"alter table college.Teaches add foreign key (tid) references college.Instructor (tid)\""
   ]
  },
  {
   "cell_type": "code",
   "execution_count": 32,
   "metadata": {},
   "outputs": [
    {
     "name": "stdout",
     "output_type": "stream",
     "text": [
      "ALTER TABLE\n"
     ]
    }
   ],
   "source": [
    "!psql -c \"alter table college.Teaches add foreign key (cno) references college.Class (cno)\""
   ]
  },
  {
   "cell_type": "markdown",
   "metadata": {},
   "source": [
    "### Describe final tables"
   ]
  },
  {
   "cell_type": "code",
   "execution_count": 33,
   "metadata": {},
   "outputs": [
    {
     "name": "stdout",
     "output_type": "stream",
     "text": [
      "                     Table \"college.student\"\n",
      " Column |          Type          | Collation | Nullable | Default \n",
      "--------+------------------------+-----------+----------+---------\n",
      " sid    | character(12)          |           | not null | \n",
      " fname  | character varying(200) |           |          | \n",
      " lname  | character varying(200) |           |          | \n",
      " dob    | date                   |           |          | \n",
      " status | character(3)           |           |          | \n",
      "Indexes:\n",
      "    \"student_pkey\" PRIMARY KEY, btree (sid)\n",
      "Referenced by:\n",
      "    TABLE \"college.takes\" CONSTRAINT \"takes_sid_fkey\" FOREIGN KEY (sid) REFERENCES college.student(sid)\n",
      "\n"
     ]
    }
   ],
   "source": [
    "!psql -c \"\\d college.Student\""
   ]
  },
  {
   "cell_type": "code",
   "execution_count": 34,
   "metadata": {},
   "outputs": [
    {
     "name": "stdout",
     "output_type": "stream",
     "text": [
      "                       Table \"college.class\"\n",
      " Column  |          Type          | Collation | Nullable | Default \n",
      "---------+------------------------+-----------+----------+---------\n",
      " cno     | character(6)           |           | not null | \n",
      " cname   | character varying(200) |           |          | \n",
      " credits | integer                |           |          | \n",
      "Indexes:\n",
      "    \"class_pkey\" PRIMARY KEY, btree (cno)\n",
      "Referenced by:\n",
      "    TABLE \"college.takes\" CONSTRAINT \"takes_cno_fkey\" FOREIGN KEY (cno) REFERENCES college.class(cno)\n",
      "    TABLE \"college.teaches\" CONSTRAINT \"teaches_cno_fkey\" FOREIGN KEY (cno) REFERENCES college.class(cno)\n",
      "\n"
     ]
    }
   ],
   "source": [
    "!psql -c \"\\d college.Class\""
   ]
  },
  {
   "cell_type": "code",
   "execution_count": 35,
   "metadata": {},
   "outputs": [
    {
     "name": "stdout",
     "output_type": "stream",
     "text": [
      "                  Table \"college.takes\"\n",
      " Column |     Type      | Collation | Nullable | Default \n",
      "--------+---------------+-----------+----------+---------\n",
      " sid    | character(12) |           | not null | \n",
      " cno    | character(6)  |           | not null | \n",
      " grade  | character(2)  |           |          | \n",
      "Indexes:\n",
      "    \"takes_pkey\" PRIMARY KEY, btree (sid, cno)\n",
      "Foreign-key constraints:\n",
      "    \"takes_cno_fkey\" FOREIGN KEY (cno) REFERENCES college.class(cno)\n",
      "    \"takes_sid_fkey\" FOREIGN KEY (sid) REFERENCES college.student(sid)\n",
      "\n"
     ]
    }
   ],
   "source": [
    "!psql -c \"\\d college.Takes\""
   ]
  },
  {
   "cell_type": "code",
   "execution_count": 36,
   "metadata": {},
   "outputs": [
    {
     "name": "stdout",
     "output_type": "stream",
     "text": [
      "                    Table \"college.instructor\"\n",
      " Column |          Type          | Collation | Nullable | Default \n",
      "--------+------------------------+-----------+----------+---------\n",
      " tid    | character(12)          |           | not null | \n",
      " name   | character varying(200) |           |          | \n",
      " dept   | character varying(200) |           |          | \n",
      "Indexes:\n",
      "    \"instructor_pkey\" PRIMARY KEY, btree (tid)\n",
      "Referenced by:\n",
      "    TABLE \"college.teaches\" CONSTRAINT \"teaches_tid_fkey\" FOREIGN KEY (tid) REFERENCES college.instructor(tid)\n",
      "\n"
     ]
    }
   ],
   "source": [
    "!psql -c \"\\d college.Instructor\""
   ]
  },
  {
   "cell_type": "code",
   "execution_count": 37,
   "metadata": {},
   "outputs": [
    {
     "name": "stdout",
     "output_type": "stream",
     "text": [
      "                 Table \"college.teaches\"\n",
      " Column |     Type      | Collation | Nullable | Default \n",
      "--------+---------------+-----------+----------+---------\n",
      " tid    | character(12) |           | not null | \n",
      " cno    | character(6)  |           | not null | \n",
      "Indexes:\n",
      "    \"teaches_pkey\" PRIMARY KEY, btree (tid, cno)\n",
      "Foreign-key constraints:\n",
      "    \"teaches_cno_fkey\" FOREIGN KEY (cno) REFERENCES college.class(cno)\n",
      "    \"teaches_tid_fkey\" FOREIGN KEY (tid) REFERENCES college.instructor(tid)\n",
      "\n"
     ]
    }
   ],
   "source": [
    "!psql -c \"\\d college.Teaches\""
   ]
  },
  {
   "cell_type": "code",
   "execution_count": null,
   "metadata": {},
   "outputs": [],
   "source": []
  }
 ],
 "metadata": {
  "environment": {
   "name": "common-cpu.mnightly-2021-01-20-debian-10-test",
   "type": "gcloud",
   "uri": "gcr.io/deeplearning-platform-release/base-cpu:mnightly-2021-01-20-debian-10-test"
  },
  "kernelspec": {
   "display_name": "Python 3",
   "language": "python",
   "name": "python3"
  },
  "language_info": {
   "codemirror_mode": {
    "name": "ipython",
    "version": 3
   },
   "file_extension": ".py",
   "mimetype": "text/x-python",
   "name": "python",
   "nbconvert_exporter": "python",
   "pygments_lexer": "ipython3",
   "version": "3.7.9"
  }
 },
 "nbformat": 4,
 "nbformat_minor": 4
}
